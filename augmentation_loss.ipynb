{
 "cells": [
  {
   "cell_type": "code",
   "execution_count": 51,
   "metadata": {},
   "outputs": [],
   "source": [
    "###############################################################\n",
    "##### @Title:  UWMGI augmentation\n",
    "##### @Time:  2022/5/29\n",
    "##### @Author: frank\n",
    "##### @Describe: \n",
    "        #  part1: Albumentations - build_transforms\n",
    "        #  part2: segmentation loss\n",
    "##### @To do: \n",
    "        #  xxxxxxxxxx\n",
    "##### @Reference:\n",
    "        # \n",
    "###############################################################"
   ]
  },
  {
   "cell_type": "markdown",
   "metadata": {},
   "source": [
    "#  part1: Albumentations - build_transforms"
   ]
  },
  {
   "cell_type": "code",
   "execution_count": 3,
   "metadata": {},
   "outputs": [],
   "source": [
    " # Augmentations\n",
    "\n",
    "##### github: https://github.com/albumentations-team/albumentations/\n",
    "##### Author: Kaggle Masters\n",
    "\n",
    "##### \"introduction to image augmentation\": 什么是图像增强，为什么能提高性能？\n",
    "        ##### https://albumentations.ai/docs/introduction/image_augmentation/\n",
    "        ##### 同学问题：对比loss\n",
    "    \n",
    "##### \"Getting started with Albumentation\": 不同cv任务的增强使用建议\n",
    "        ##### classification\n",
    "        ##### segmentation: https://albumentations.ai/docs/getting_started/mask_augmentation/\n",
    "            ##### 确保image & masks采用同样的增强方式.\n",
    "            ##### example: https://albumentations.ai/docs/examples/example_kaggle_salt/\n",
    "        ##### object detection\n",
    "        ##### keypoints augmentation\n",
    "        ##### .....\n",
    "##### \"Example\": 一些notebook链接\n",
    "##### ”Examples of how to use Albumentations with different deep learning frameworks“\n",
    "##### \"External resources¶\"\n"
   ]
  },
  {
   "cell_type": "code",
   "execution_count": 2,
   "metadata": {},
   "outputs": [],
   "source": [
    "# Steps 1 and 2. Import the required libraries and define an augmentation pipeline.¶\n",
    "import albumentations as A\n",
    "\n",
    "# 核心API: \n",
    "# https://albumentations.ai/docs/api_reference/core/composition/#albumentations.core.composition.Compose\n",
    "\n",
    "transform = A.Compose([ # 所有变换放到一起，按顺序执行\n",
    "    A.RandomCrop(width=256, height=256),\n",
    "    A.HorizontalFlip(p=0.5),\n",
    "    A.RandomBrightnessContrast(p=0.2),\n",
    "    A.OneOf([\n",
    "            A.IAAAdditiveGaussianNoise(),  \n",
    "            A.GaussNoise(),    \n",
    "    ], p=0.2),   # 应用选定此增强的概率\n",
    "])\n",
    "\n",
    "# Step 3. Read images and masks from the disk.¶\n",
    "# Step 4. Pass image and masks to the augmentation pipeline and receive augmented images and masks.¶\n",
    "transformed = transform(image=image, mask=mask)\n",
    "transformed_image = transformed['image']\n",
    "transformed_mask = transformed['mask']\n"
   ]
  },
  {
   "cell_type": "code",
   "execution_count": null,
   "metadata": {},
   "outputs": [],
   "source": [
    "##### TO DO LIST\n",
    "##### augmentation的探索\n",
    "##### 多分辨率训练."
   ]
  },
  {
   "cell_type": "markdown",
   "metadata": {},
   "source": [
    "# part2: segmentation task loss - build_loss"
   ]
  },
  {
   "cell_type": "code",
   "execution_count": 1,
   "metadata": {},
   "outputs": [],
   "source": [
    "\n",
    "# segmentation models\n",
    "\n",
    "##### github: https://github.com/qubvel/segmentation_models.pytorch/blob/master/docs/quickstart.rst\n",
    "##### Document: https://smp.readthedocs.io/en/latest/quickstart.html \n",
    "##### Author: Kaggle Masters\n",
    "\n",
    "##### model\n",
    "##### loss:\n",
    "##### metric"
   ]
  },
  {
   "cell_type": "code",
   "execution_count": null,
   "metadata": {},
   "outputs": [],
   "source": [
    "import segmentation_models_pytorch as smp # smp\n",
    "BCELoss     = smp.losses.SoftBCEWithLogitsLoss()\n",
    "TverskyLoss = smp.losses.TverskyLoss(mode='multilabel', log_loss=False)"
   ]
  },
  {
   "cell_type": "code",
   "execution_count": null,
   "metadata": {},
   "outputs": [],
   "source": [
    "##### TO DO LIST\n",
    "##### loss的探索\n",
    "##### 多loss平衡：CVPR2018: Multi-Task Learning Using Uncertainty to Weigh Losses for Scene Geometry and Semantics.\n"
   ]
  },
  {
   "cell_type": "markdown",
   "metadata": {},
   "source": [
    "# part3: 混合精度（Mixed Precision Example）"
   ]
  },
  {
   "cell_type": "code",
   "execution_count": 2,
   "metadata": {},
   "outputs": [],
   "source": [
    "# Documents:  https://pytorch.org/docs/stable/notes/amp_examples.html\n",
    "from torch.cuda import amp"
   ]
  },
  {
   "cell_type": "code",
   "execution_count": null,
   "metadata": {},
   "outputs": [],
   "source": [
    "# Creates model and optimizer in default precision\n",
    "model = Net().cuda()\n",
    "optimizer = optim.SGD(model.parameters(), ...)\n",
    "\n",
    "# Creates a GradScaler once at the beginning of training.\n",
    "scaler = GradScaler()\n",
    "\n",
    "for epoch in epochs:\n",
    "    for input, target in data:\n",
    "        optimizer.zero_grad()\n",
    "\n",
    "        # Runs the forward pass with autocasting.\n",
    "        with autocast():\n",
    "            output = model(input)\n",
    "            loss = loss_fn(output, target)\n",
    "\n",
    "        # Scales loss.  Calls backward() on scaled loss to create scaled gradients.\n",
    "        # Backward passes under autocast are not recommended.\n",
    "        # Backward ops run in the same dtype autocast chose for corresponding forward ops.\n",
    "        scaler.scale(loss).backward()\n",
    "\n",
    "        # scaler.step() first unscales the gradients of the optimizer's assigned params.\n",
    "        # If these gradients do not contain infs or NaNs, optimizer.step() is then called,\n",
    "        # otherwise, optimizer.step() is skipped.\n",
    "        scaler.step(optimizer)\n",
    "\n",
    "        # Updates the scale for next iteration.\n",
    "        scaler.update()"
   ]
  },
  {
   "cell_type": "markdown",
   "metadata": {},
   "source": [
    "# part4: 优化器/学习率策略\n",
    "# part5: 多GPU"
   ]
  },
  {
   "cell_type": "markdown",
   "metadata": {},
   "source": [
    "# dist: DETR， mask2former\n",
    "# nn.data.paral)_!!.."
   ]
  }
 ],
 "metadata": {
  "interpreter": {
   "hash": "05295250869e8448a28159ebc5fd96a249803a9c9b12367269915a7b49106b30"
  },
  "kernelspec": {
   "display_name": "Python 3.8.13 ('python3.8_torch1.10_cuda11.3')",
   "language": "python",
   "name": "python3"
  },
  "language_info": {
   "codemirror_mode": {
    "name": "ipython",
    "version": 3
   },
   "file_extension": ".py",
   "mimetype": "text/x-python",
   "name": "python",
   "nbconvert_exporter": "python",
   "pygments_lexer": "ipython3",
   "version": "3.8.13"
  }
 },
 "nbformat": 4,
 "nbformat_minor": 4
}
